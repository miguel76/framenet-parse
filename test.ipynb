{
 "cells": [
  {
   "cell_type": "code",
   "execution_count": 1,
   "metadata": {},
   "outputs": [],
   "source": [
    "from lxml import etree\n",
    "import json\n"
   ]
  },
  {
   "cell_type": "code",
   "execution_count": 2,
   "metadata": {},
   "outputs": [],
   "source": [
    "fulltextIndex = etree.parse(\"fndata-1.7/fulltextIndex.xml\")"
   ]
  },
  {
   "cell_type": "code",
   "execution_count": 3,
   "metadata": {},
   "outputs": [],
   "source": [
    "transform = etree.XSLT(etree.parse(\"fulltextIndex.xsl\"))"
   ]
  },
  {
   "cell_type": "code",
   "execution_count": 4,
   "metadata": {},
   "outputs": [],
   "source": [
    "res = transform(fulltextIndex)"
   ]
  },
  {
   "cell_type": "code",
   "execution_count": 5,
   "metadata": {},
   "outputs": [
    {
     "data": {
      "text/plain": [
       "'[\\n\\t{\\n\\t\\t\\n        \"description\": \"AQUAINT Knowledge-Based Evaluation Texts\",\\n        \"documents\": [\\n\\t\\t\\t{\\n\\t\\t\\t\\t\\n                \"path\": \"fulltext/KBEval__Brandeis.xml\",\\n                \"description\": \"Brandeis\"\\n\\t        },{\\n\\t\\t\\t\\t\\n                \"path\": \"fulltext/KBEval__LCC-M.xml\",\\n                \"description\": \"LCC-M\"\\n\\t        },{\\n\\t\\t\\t\\t\\n                \"path\": \"fulltext/KBEval__MIT.xml\",\\n                \"description\": \"MIT\"\\n\\t        },{\\n\\t\\t\\t\\t\\n                \"path\": \"fulltext/KBEval__Stanford.xml\",\\n                \"description\": \"Stanford\"\\n\\t        },{\\n\\t\\t\\t\\t\\n                \"path\": \"fulltext/KBEval__atm.xml\",\\n                \"description\": \"atm\"\\n\\t        },{\\n\\t\\t\\t\\t\\n                \"path\": \"fulltext/KBEval__cycorp.xml\",\\n                \"description\": \"cycorp\"\\n\\t        },{\\n\\t\\t\\t\\t\\n                \"path\": \"fulltext/KBEval__lcch.xml\",\\n                \"description\": \"lcch\"\\n\\t        },{\\n\\t\\t\\t\\t\\n                \"path\": \"fulltext/KBEval__parc.xml\",\\n                \"description\": \"parc\"\\n\\t        },{\\n\\t\\t\\t\\t\\n                \"path\": \"fulltext/KBEval__utd-icsi.xml\",\\n                \"description\": \"utd-icsi\"\\n\\t        }\\n        ]\\n    },{\\n\\t\\t\\n        \"description\": \"American National Corpus Texts\",\\n        \"documents\": [\\n\\t\\t\\t{\\n\\t\\t\\t\\t\\n                \"path\": \"fulltext/ANC__HistoryOfGreece.xml\",\\n                \"description\": \"Berlitz History of Greece\"\\n\\t        },{\\n\\t\\t\\t\\t\\n                \"path\": \"fulltext/ANC__HistoryOfJerusalem.xml\",\\n                \"description\": \"Berlitz History of Jerusalem\"\\n\\t        },{\\n\\t\\t\\t\\t\\n                \"path\": \"fulltext/ANC__HistoryOfLasVegas.xml\",\\n                \"description\": \"Berlitz History of Las Vegas\"\\n\\t        },{\\n\\t\\t\\t\\t\\n                \"path\": \"fulltext/ANC__IntroOfDublin.xml\",\\n                \"description\": \"Berlitz Intro of Dublin\"\\n\\t        },{\\n\\t\\t\\t\\t\\n                \"path\": \"fulltext/ANC__IntroHongKong.xml\",\\n                \"description\": \"Berlitz Intro of Hong Kong\"\\n\\t        },{\\n\\t\\t\\t\\t\\n                \"path\": \"fulltext/ANC__IntroJamaica.xml\",\\n                \"description\": \"Berlitz Intro of Jamaica\"\\n\\t        },{\\n\\t\\t\\t\\t\\n                \"path\": \"fulltext/ANC__WhatToHongKong.xml\",\\n                \"description\": \"Berlitz What to Do in Hong Kong\"\\n\\t        },{\\n\\t\\t\\t\\t\\n                \"path\": \"fulltext/ANC__WhereToHongKong.xml\",\\n                \"description\": \"Berlitz Where to Go in Hong Kong\"\\n\\t        },{\\n\\t\\t\\t\\t\\n                \"path\": \"fulltext/ANC__112C-L013.xml\",\\n                \"description\": \"Children\\'s home fund-raising letter\"\\n\\t        },{\\n\\t\\t\\t\\t\\n                \"path\": \"fulltext/ANC__112C-L012.xml\",\\n                \"description\": \"Children\\'s home fund-raising letter\"\\n\\t        },{\\n\\t\\t\\t\\t\\n                \"path\": \"fulltext/ANC__110CYL067.xml\",\\n                \"description\": \"Goodwill fund-raising letter\"\\n\\t        },{\\n\\t\\t\\t\\t\\n                \"path\": \"fulltext/ANC__110CYL068.xml\",\\n                \"description\": \"Goodwill fund-raising letter\"\\n\\t        },{\\n\\t\\t\\t\\t\\n                \"path\": \"fulltext/ANC__110CYL070.xml\",\\n                \"description\": \"Goodwill fund-raising letter\"\\n\\t        },{\\n\\t\\t\\t\\t\\n                \"path\": \"fulltext/ANC__110CYL072.xml\",\\n                \"description\": \"Goodwill fund-raising letter\"\\n\\t        },{\\n\\t\\t\\t\\t\\n                \"path\": \"fulltext/ANC__110CYL200.xml\",\\n                \"description\": \"Goodwill fund-raising letter\"\\n\\t        },{\\n\\t\\t\\t\\t\\n                \"path\": \"fulltext/ANC__110CYL069.xml\",\\n                \"description\": \"Goodwill fund-raising letter\"\\n\\t        },{\\n\\t\\t\\t\\t\\n                \"path\": \"fulltext/ANC__EntrepreneurAsMadonna.xml\",\\n                \"description\": \"Slate magazine article: Entrepreneur as Madonna\"\\n\\t        },{\\n\\t\\t\\t\\t\\n                \"path\": \"fulltext/ANC__StephanopoulosCrimes.xml\",\\n                \"description\": \"Slate magazine article: Stephanopoulos Crimes\"\\n\\t        },{\\n\\t\\t\\t\\t\\n                \"path\": \"fulltext/ANC__chapter1_911report.xml\",\\n                \"description\": \"chapter1_911report\"\\n\\t        },{\\n\\t\\t\\t\\t\\n                \"path\": \"fulltext/ANC__chapter8_911report.xml\",\\n                \"description\": \"chapter8_911report\"\\n\\t        },{\\n\\t\\t\\t\\t\\n                \"path\": \"fulltext/ANC__journal_christine.xml\",\\n                \"description\": \"journal_christine\"\\n\\t        }\\n        ]\\n    },{\\n\\t\\t\\n        \"description\": \"LUCorpus-v0.3\",\\n        \"documents\": [\\n\\t\\t\\t{\\n\\t\\t\\t\\t\\n                \"path\": \"fulltext/LUCorpus-v0.3__20000410_nyt-NEW.xml\",\\n                \"description\": \"20000410_nyt-NEW\"\\n\\t        },{\\n\\t\\t\\t\\t\\n                \"path\": \"fulltext/LUCorpus-v0.3__20000415_apw_eng-NEW.xml\",\\n                \"description\": \"20000415_apw_eng-NEW\"\\n\\t        },{\\n\\t\\t\\t\\t\\n                \"path\": \"fulltext/LUCorpus-v0.3__20000416_xin_eng-NEW.xml\",\\n                \"description\": \"20000416_xin_eng-NEW\"\\n\\t        },{\\n\\t\\t\\t\\t\\n                \"path\": \"fulltext/LUCorpus-v0.3__20000419_apw_eng-NEW.xml\",\\n                \"description\": \"20000419_apw_eng-NEW\"\\n\\t        },{\\n\\t\\t\\t\\t\\n                \"path\": \"fulltext/LUCorpus-v0.3__20000420_xin_eng-NEW.xml\",\\n                \"description\": \"20000420_xin_eng-NEW\"\\n\\t        },{\\n\\t\\t\\t\\t\\n                \"path\": \"fulltext/LUCorpus-v0.3__20000424_nyt-NEW.xml\",\\n                \"description\": \"20000424_nyt-NEW\"\\n\\t        },{\\n\\t\\t\\t\\t\\n                \"path\": \"fulltext/LUCorpus-v0.3__602CZL285-1.xml\",\\n                \"description\": \"602CZL285-1\"\\n\\t        },{\\n\\t\\t\\t\\t\\n                \"path\": \"fulltext/LUCorpus-v0.3__AFGP-2002-600002-Trans.xml\",\\n                \"description\": \"AFGP-2002-600002-Trans\"\\n\\t        },{\\n\\t\\t\\t\\t\\n                \"path\": \"fulltext/LUCorpus-v0.3__AFGP-2002-600045-Trans.xml\",\\n                \"description\": \"AFGP-2002-600045-Trans\"\\n\\t        },{\\n\\t\\t\\t\\t\\n                \"path\": \"fulltext/LUCorpus-v0.3__AFGP-2002-600175-Trans.xml\",\\n                \"description\": \"AFGP-2002-600175-Trans\"\\n\\t        },{\\n\\t\\t\\t\\t\\n                \"path\": \"fulltext/LUCorpus-v0.3__AFGP-2002-602187-Trans.xml\",\\n                \"description\": \"AFGP-2002-602187-Trans\"\\n\\t        },{\\n\\t\\t\\t\\t\\n                \"path\": \"fulltext/LUCorpus-v0.3__CNN_AARONBROWN_ENG_20051101_215800.partial-NEW.xml\",\\n                \"description\": \"CNN_AARONBROWN_ENG_20051101_215800.partial-NEW\"\\n\\t        },{\\n\\t\\t\\t\\t\\n                \"path\": \"fulltext/LUCorpus-v0.3__CNN_ENG_20030614_173123.4-NEW-1.xml\",\\n                \"description\": \"CNN_ENG_20030614_173123.4-NEW-1\"\\n\\t        },{\\n\\t\\t\\t\\t\\n                \"path\": \"fulltext/LUCorpus-v0.3__ENRON-pearson-email-25jul02.xml\",\\n                \"description\": \"ENRON-pearson-email-25jul02\"\\n\\t        },{\\n\\t\\t\\t\\t\\n                \"path\": \"fulltext/LUCorpus-v0.3__IZ-060316-01-Trans-1.xml\",\\n                \"description\": \"IZ-060316-01-Trans-1\"\\n\\t        },{\\n\\t\\t\\t\\t\\n                \"path\": \"fulltext/LUCorpus-v0.3__SNO-525.xml\",\\n                \"description\": \"SNO-525\"\\n\\t        },{\\n\\t\\t\\t\\t\\n                \"path\": \"fulltext/LUCorpus-v0.3__artb_004_A1_E1_NEW.xml\",\\n                \"description\": \"artb_004_A1_E1_NEW\"\\n\\t        },{\\n\\t\\t\\t\\t\\n                \"path\": \"fulltext/LUCorpus-v0.3__artb_004_A1_E2_NEW.xml\",\\n                \"description\": \"artb_004_A1_E2_NEW\"\\n\\t        },{\\n\\t\\t\\t\\t\\n                \"path\": \"fulltext/LUCorpus-v0.3__enron-thread-159550.xml\",\\n                \"description\": \"enron-thread-159550\"\\n\\t        },{\\n\\t\\t\\t\\t\\n                \"path\": \"fulltext/LUCorpus-v0.3__sw2025-ms98-a-trans.ascii-1-NEW.xml\",\\n                \"description\": \"sw2025-ms98-a-trans.ascii-1-NEW\"\\n\\t        },{\\n\\t\\t\\t\\t\\n                \"path\": \"fulltext/LUCorpus-v0.3__wsj_1640.mrg-NEW.xml\",\\n                \"description\": \"wsj_1640.mrg-NEW\"\\n\\t        },{\\n\\t\\t\\t\\t\\n                \"path\": \"fulltext/LUCorpus-v0.3__wsj_2465.xml\",\\n                \"description\": \"wsj_2465\"\\n\\t        }\\n        ]\\n    },{\\n\\t\\t\\n        \"description\": \"Miscellaneous\",\\n        \"documents\": [\\n\\t\\t\\t{\\n\\t\\t\\t\\t\\n                \"path\": \"fulltext/Miscellaneous__C-4Text.xml\",\\n                \"description\": \"C-4 Text\"\\n\\t        },{\\n\\t\\t\\t\\t\\n                \"path\": \"fulltext/Miscellaneous__Hound-Ch14.xml\",\\n                \"description\": \"Chapter 14 of The Hound of the Baskervilles\"\\n\\t        },{\\n\\t\\t\\t\\t\\n                \"path\": \"fulltext/Miscellaneous__Examples4-5.xml\",\\n                \"description\": \"Examples4-5\"\\n\\t        },{\\n\\t\\t\\t\\t\\n                \"path\": \"fulltext/Miscellaneous__Hijack.xml\",\\n                \"description\": \"Hijack\"\\n\\t        },{\\n\\t\\t\\t\\t\\n                \"path\": \"fulltext/Miscellaneous__IranRelatedQuestions.xml\",\\n                \"description\": \"Iran-related Questions\"\\n\\t        },{\\n\\t\\t\\t\\t\\n                \"path\": \"fulltext/Miscellaneous__Orwell_1984_p1.xml\",\\n                \"description\": \"Orwell_1984_p1\"\\n\\t        },{\\n\\t\\t\\t\\t\\n                \"path\": \"fulltext/Miscellaneous__SadatAssassination.xml\",\\n                \"description\": \"Sadat Assassination\"\\n\\t        },{\\n\\t\\t\\t\\t\\n                \"path\": \"fulltext/Miscellaneous__SemAnno_1.xml\",\\n                \"description\": \"SemAnno_1\"\\n\\t        },{\\n\\t\\t\\t\\t\\n                \"path\": \"fulltext/Miscellaneous__tradeBalance020417.xml\",\\n                \"description\": \"StatCan Trade Balance\"\\n\\t        },{\\n\\t\\t\\t\\t\\n                \"path\": \"fulltext/Miscellaneous__Pickett.xml\",\\n                \"description\": \"This is a 5-sentence news story about alleged White House gunman Robert Pickett.\"\\n\\t        },{\\n\\t\\t\\t\\t\\n                \"path\": \"fulltext/Miscellaneous__Tiger_Of_San_Pedro.xml\",\\n                \"description\": \"TigerOfSanPedro\"\\n\\t        }\\n        ]\\n    },{\\n\\t\\t\\n        \"description\": \"Texts from Nuclear Threat Initiative website, created by Center for Non-Proliferation Studies\",\\n        \"documents\": [\\n\\t\\t\\t{\\n\\t\\t\\t\\t\\n                \"path\": \"fulltext/NTI__BWTutorial_chapter1.xml\",\\n                \"description\": \"B W Tutorial chapter1\"\\n\\t        },{\\n\\t\\t\\t\\t\\n                \"path\": \"fulltext/NTI__ChinaOverview.xml\",\\n                \"description\": \"China Overview\"\\n\\t        },{\\n\\t\\t\\t\\t\\n                \"path\": \"fulltext/NTI__Iran_Biological.xml\",\\n                \"description\": \"Iran Biological\"\\n\\t        },{\\n\\t\\t\\t\\t\\n                \"path\": \"fulltext/NTI__Iran_Chemical.xml\",\\n                \"description\": \"Iran Chemical\"\\n\\t        },{\\n\\t\\t\\t\\t\\n                \"path\": \"fulltext/NTI__Iran_Introduction.xml\",\\n                \"description\": \"Iran Introduction\"\\n\\t        },{\\n\\t\\t\\t\\t\\n                \"path\": \"fulltext/NTI__Iran_Missile.xml\",\\n                \"description\": \"Iran Missile\"\\n\\t        },{\\n\\t\\t\\t\\t\\n                \"path\": \"fulltext/NTI__Iran_Nuclear.xml\",\\n                \"description\": \"Iran Nuclear\"\\n\\t        },{\\n\\t\\t\\t\\t\\n                \"path\": \"fulltext/NTI__Kazakhstan.xml\",\\n                \"description\": \"Kazakhstan\"\\n\\t        },{\\n\\t\\t\\t\\t\\n                \"path\": \"fulltext/NTI__LibyaCountry1.xml\",\\n                \"description\": \"Libya Country 1\"\\n\\t        },{\\n\\t\\t\\t\\t\\n                \"path\": \"fulltext/NTI__NorthKorea_ChemicalOverview.xml\",\\n                \"description\": \"North Korea Chemical Overview\"\\n\\t        },{\\n\\t\\t\\t\\t\\n                \"path\": \"fulltext/NTI__NorthKorea_Introduction.xml\",\\n                \"description\": \"North Korea Introduction\"\\n\\t        },{\\n\\t\\t\\t\\t\\n                \"path\": \"fulltext/NTI__NorthKorea_NuclearCapabilities.xml\",\\n                \"description\": \"North Korea Nuclear Capabilities\"\\n\\t        },{\\n\\t\\t\\t\\t\\n                \"path\": \"fulltext/NTI__NorthKorea_NuclearOverview.xml\",\\n                \"description\": \"North Korea Nuclear Overview\"\\n\\t        },{\\n\\t\\t\\t\\t\\n                \"path\": \"fulltext/NTI__Russia_Introduction.xml\",\\n                \"description\": \"Russia Introduction\"\\n\\t        },{\\n\\t\\t\\t\\t\\n                \"path\": \"fulltext/NTI__SouthAfrica_Introduction.xml\",\\n                \"description\": \"South Africa Introduction\"\\n\\t        },{\\n\\t\\t\\t\\t\\n                \"path\": \"fulltext/NTI__Syria_NuclearOverview.xml\",\\n                \"description\": \"Syria Nuclear Overview\"\\n\\t        },{\\n\\t\\t\\t\\t\\n                \"path\": \"fulltext/NTI__Taiwan_Introduction.xml\",\\n                \"description\": \"Taiwan Introduction\"\\n\\t        },{\\n\\t\\t\\t\\t\\n                \"path\": \"fulltext/NTI__WMDNews_042106.xml\",\\n                \"description\": \"WMD News 04/21/2006\"\\n\\t        },{\\n\\t\\t\\t\\t\\n                \"path\": \"fulltext/NTI__WMDNews_062606.xml\",\\n                \"description\": \"WMD News 06/26/2006\"\\n\\t        },{\\n\\t\\t\\t\\t\\n                \"path\": \"fulltext/NTI__workAdvances.xml\",\\n                \"description\": \"Work Advances\"\\n\\t        }\\n        ]\\n    },{\\n\\t\\t\\n        \"description\": \"Texts from WikiMedia--WikiNews and Wikipedia\",\\n        \"documents\": [\\n\\t\\t\\t{\\n\\t\\t\\t\\t\\n                \"path\": \"fulltext/WikiTexts__Fires_1.xml\",\\n                \"description\": \"Fires_1\"\\n\\t        },{\\n\\t\\t\\t\\t\\n                \"path\": \"fulltext/WikiTexts__Fires_10.xml\",\\n                \"description\": \"Fires_10\"\\n\\t        },{\\n\\t\\t\\t\\t\\n                \"path\": \"fulltext/WikiTexts__Fires_2.xml\",\\n                \"description\": \"Fires_2\"\\n\\t        },{\\n\\t\\t\\t\\t\\n                \"path\": \"fulltext/WikiTexts__Fires_3.xml\",\\n                \"description\": \"Fires_3\"\\n\\t        },{\\n\\t\\t\\t\\t\\n                \"path\": \"fulltext/WikiTexts__Fires_4.xml\",\\n                \"description\": \"Fires_4\"\\n\\t        },{\\n\\t\\t\\t\\t\\n                \"path\": \"fulltext/WikiTexts__Fires_5.xml\",\\n                \"description\": \"Fires_5\"\\n\\t        },{\\n\\t\\t\\t\\t\\n                \"path\": \"fulltext/WikiTexts__Fires_6.xml\",\\n                \"description\": \"Fires_6\"\\n\\t        },{\\n\\t\\t\\t\\t\\n                \"path\": \"fulltext/WikiTexts__Fires_7.xml\",\\n                \"description\": \"Fires_7\"\\n\\t        },{\\n\\t\\t\\t\\t\\n                \"path\": \"fulltext/WikiTexts__Fires_8.xml\",\\n                \"description\": \"Fires_8\"\\n\\t        },{\\n\\t\\t\\t\\t\\n                \"path\": \"fulltext/WikiTexts__Fires_9.xml\",\\n                \"description\": \"Fires_9\"\\n\\t        },{\\n\\t\\t\\t\\t\\n                \"path\": \"fulltext/WikiTexts__acquisition.n.xml\",\\n                \"description\": \"acquisition.n\"\\n\\t        },{\\n\\t\\t\\t\\t\\n                \"path\": \"fulltext/WikiTexts__boutique.n.xml\",\\n                \"description\": \"boutique.n\"\\n\\t        },{\\n\\t\\t\\t\\t\\n                \"path\": \"fulltext/WikiTexts__extent.n.xml\",\\n                \"description\": \"extent.n\"\\n\\t        },{\\n\\t\\t\\t\\t\\n                \"path\": \"fulltext/WikiTexts__fund.n.xml\",\\n                \"description\": \"fund.n\"\\n\\t        },{\\n\\t\\t\\t\\t\\n                \"path\": \"fulltext/WikiTexts__invoice.n.xml\",\\n                \"description\": \"invoice.n\"\\n\\t        },{\\n\\t\\t\\t\\t\\n                \"path\": \"fulltext/WikiTexts__oven.n.xml\",\\n                \"description\": \"oven.n\"\\n\\t        },{\\n\\t\\t\\t\\t\\n                \"path\": \"fulltext/WikiTexts__someone.n.xml\",\\n                \"description\": \"someone.n\"\\n\\t        },{\\n\\t\\t\\t\\t\\n                \"path\": \"fulltext/WikiTexts__spatula.n.xml\",\\n                \"description\": \"spatula.n\"\\n\\t        }\\n        ]\\n    },{\\n\\t\\t\\n        \"description\": \"Wall Street Journal Texts from the PropBank Project\",\\n        \"documents\": [\\n\\t\\t\\t{\\n\\t\\t\\t\\t\\n                \"path\": \"fulltext/PropBank__AetnaLifeAndCasualty.xml\",\\n                \"description\": \"Aetna Life and Casualty\"\\n\\t        },{\\n\\t\\t\\t\\t\\n                \"path\": \"fulltext/PropBank__BellRinging.xml\",\\n                \"description\": \"Bell Ringing\"\\n\\t        },{\\n\\t\\t\\t\\t\\n                \"path\": \"fulltext/PropBank__ElectionVictory.xml\",\\n                \"description\": \"Election Victory\"\\n\\t        },{\\n\\t\\t\\t\\t\\n                \"path\": \"fulltext/PropBank__LomaPrieta.xml\",\\n                \"description\": \"Loma Prieta\"\\n\\t        },{\\n\\t\\t\\t\\t\\n                \"path\": \"fulltext/PropBank__PolemicProgressiveEducation.xml\",\\n                \"description\": \"Polemic Progressive Education\"\\n\\t        },{\\n\\t\\t\\t\\t\\n                \"path\": \"fulltext/PropBank__TicketSplitting.xml\",\\n                \"description\": \"Ticket Splitting\"\\n\\t        }\\n        ]\\n    }\\n]'"
      ]
     },
     "execution_count": 5,
     "metadata": {},
     "output_type": "execute_result"
    }
   ],
   "source": [
    "str(res)"
   ]
  },
  {
   "cell_type": "code",
   "execution_count": 6,
   "metadata": {},
   "outputs": [],
   "source": [
    "with open('output/fulltextIndex.json', 'w', encoding=\"utf-8\") as f:\n",
    "    f.write(str(res))"
   ]
  },
  {
   "cell_type": "code",
   "execution_count": 7,
   "metadata": {},
   "outputs": [],
   "source": [
    "fulltext = etree.parse(\"fndata-1.7/fulltext/Miscellaneous__Orwell_1984_p1.xml\")"
   ]
  },
  {
   "cell_type": "code",
   "execution_count": 8,
   "metadata": {},
   "outputs": [],
   "source": [
    "transform = etree.XSLT(etree.parse(\"fulltext.xsl\"))"
   ]
  },
  {
   "cell_type": "code",
   "execution_count": 9,
   "metadata": {},
   "outputs": [],
   "source": [
    "res = transform(fulltext)\n",
    "with open('output/fulltext.json', 'w', encoding=\"utf-8\") as f:\n",
    "    f.write(json.dumps(json.loads(str(res)), indent=4))\n",
    "    # f.write(str(res))"
   ]
  }
 ],
 "metadata": {
  "kernelspec": {
   "display_name": "env",
   "language": "python",
   "name": "python3"
  },
  "language_info": {
   "codemirror_mode": {
    "name": "ipython",
    "version": 3
   },
   "file_extension": ".py",
   "mimetype": "text/x-python",
   "name": "python",
   "nbconvert_exporter": "python",
   "pygments_lexer": "ipython3",
   "version": "3.11.7"
  }
 },
 "nbformat": 4,
 "nbformat_minor": 2
}
